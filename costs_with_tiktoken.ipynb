{
 "cells": [
  {
   "cell_type": "markdown",
   "metadata": {},
   "source": [
    "# Counting Tokens with TikToken\n",
    "\n",
    "When submitting large text files, e.g., novels, I need to know how much text I can submit at a time. And, I need enable the application to recursively submit the text.\n",
    "\n",
    "There are different types of encodings, depending on the model being used."
   ]
  },
  {
   "cell_type": "code",
   "execution_count": 1,
   "metadata": {},
   "outputs": [],
   "source": [
    "import tiktoken"
   ]
  },
  {
   "cell_type": "code",
   "execution_count": 8,
   "metadata": {},
   "outputs": [],
   "source": [
    "# enc = tiktoken.get_encoding(\"p50k_base\")\n",
    "enc = tiktoken.encoding_for_model(\"gpt-4\")"
   ]
  },
  {
   "cell_type": "code",
   "execution_count": 9,
   "metadata": {},
   "outputs": [
    {
     "data": {
      "text/plain": [
       "4"
      ]
     },
     "execution_count": 9,
     "metadata": {},
     "output_type": "execute_result"
    }
   ],
   "source": [
    "len(enc.encode(\"Hellow world!\"))"
   ]
  },
  {
   "cell_type": "code",
   "execution_count": 10,
   "metadata": {},
   "outputs": [],
   "source": [
    "article_text = \"\"\"\n",
    "\n",
    "Apples no one has ever tasted are still out in the wild. Dave Benscoter, a retired FBI agent, has spent a decade searching for these 100-year-old heirlooms.\n",
    "\n",
    "\n",
    "On a hot October afternoon, Dave Benscoter leads me into a thicket of trees rising from a slope along the edge of Steptoe Butte in eastern Washington. We trudge until a mess of branches—some bent low, crooked like a finger, others soaring toward the sun like Icarus—obscure the outline of his five-foot-nine-inch frame, currently draped in a T-shirt bearing the image of a whitetail buck. He stops, taps me, and points up. Craning his neck, he fixes his bespectacled eyes on an object the size of a tennis ball.\n",
    "\n",
    "In the late 1800s, local legend James “Cashup” Davis erected a hotel at the top of the butte, a popular destination until travelers figured that navigating a rickety wagon up 3,600 feet was a surefire way to join the departed. (After it closed, the abandoned hotel became an after-hours booze-soaked hangout.) But Cashup also planted several hundred apple trees in the ravines below. Hundreds still stand, scattered like patchwork between overgrown brush and tilled wheat fields.\n",
    "\n",
    "Benscoter carries a long pole topped with a metal basket resembling the pocket of a lacrosse stick. Clasping it now with both hands, he maneuvers it between a tuft of green and orange leaves, then plucks an apple with the hue of a highlighter off a branch.\n",
    "\n",
    "“There it is, my all-time favorite apple,” Benscoter says after hauling it in. “It looks like a butt.” A vertical indent creased it down the middle.\n",
    "\n",
    "He chuckles, grasps the apple, wipes it against his shirt, bites into it, chews a few times, and promptly spits out a chunk of partially masticated fruit. Not ripe enough, it seems. For the next several hours we continue, plucking apples from aged trees, sampling them in the grass, hoping to find one that people haven’t tasted in decades.\n",
    "\n",
    "By 1900, about 20,000 known varieties of apples grew across North America. Now there’s less than half that number. Some are extinct, while others grow on trees more than a century old. These heirloom varieties fell out of favor when new transportation and storage methods nullified the need for locally grown apples. As commercial agriculture supplanted family orchards, many distinct apples were displaced, too—but not lost forever.\n",
    "\n",
    "\"\"\""
   ]
  },
  {
   "cell_type": "code",
   "execution_count": 11,
   "metadata": {},
   "outputs": [
    {
     "data": {
      "text/plain": [
       "537"
      ]
     },
     "execution_count": 11,
     "metadata": {},
     "output_type": "execute_result"
    }
   ],
   "source": [
    "len(enc.encode(article_text))"
   ]
  },
  {
   "cell_type": "code",
   "execution_count": 12,
   "metadata": {},
   "outputs": [],
   "source": [
    "def num_tokens_from_string(string: str, model_name: str) -> int:\n",
    "    \"\"\"Returns the number of tokens in a text string.\"\"\"\n",
    "    encoding = tiktoken.encoding_for_model(model_name)\n",
    "    num_tokens = len(encoding.encode(string))\n",
    "    return num_tokens"
   ]
  },
  {
   "cell_type": "code",
   "execution_count": 14,
   "metadata": {},
   "outputs": [
    {
     "data": {
      "text/plain": [
       "537"
      ]
     },
     "execution_count": 14,
     "metadata": {},
     "output_type": "execute_result"
    }
   ],
   "source": [
    "num_tokens_from_string(article_text, \"gpt-3.5-turbo\")"
   ]
  },
  {
   "cell_type": "code",
   "execution_count": null,
   "metadata": {},
   "outputs": [],
   "source": []
  },
  {
   "cell_type": "code",
   "execution_count": null,
   "metadata": {},
   "outputs": [],
   "source": []
  },
  {
   "cell_type": "code",
   "execution_count": null,
   "metadata": {},
   "outputs": [],
   "source": []
  },
  {
   "cell_type": "code",
   "execution_count": null,
   "metadata": {},
   "outputs": [],
   "source": []
  },
  {
   "cell_type": "code",
   "execution_count": null,
   "metadata": {},
   "outputs": [],
   "source": []
  }
 ],
 "metadata": {
  "kernelspec": {
   "display_name": "Python 3",
   "language": "python",
   "name": "python3"
  },
  "language_info": {
   "codemirror_mode": {
    "name": "ipython",
    "version": 3
   },
   "file_extension": ".py",
   "mimetype": "text/x-python",
   "name": "python",
   "nbconvert_exporter": "python",
   "pygments_lexer": "ipython3",
   "version": "3.8.5"
  }
 },
 "nbformat": 4,
 "nbformat_minor": 4
}
