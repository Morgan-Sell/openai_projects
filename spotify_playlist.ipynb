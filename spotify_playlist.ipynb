{
 "cells": [
  {
   "cell_type": "markdown",
   "id": "fe8e2ace-5965-4ab9-b128-e6dde731b295",
   "metadata": {},
   "source": [
    "# Spotify Playlist Generator"
   ]
  },
  {
   "cell_type": "code",
   "execution_count": 13,
   "id": "3819e1b9-7c89-4966-9ab9-1c908d14e942",
   "metadata": {},
   "outputs": [],
   "source": [
    "import openai\n",
    "from dotenv import dotenv_values\n",
    "import json"
   ]
  },
  {
   "cell_type": "code",
   "execution_count": 2,
   "id": "28d5b38f-614a-44d2-bcc3-71669fb6a33a",
   "metadata": {},
   "outputs": [],
   "source": [
    "config = dotenv_values(\".env\")\n",
    "\n",
    "openai.api_key = config[\"OPENAI_API_KEY\"]"
   ]
  },
  {
   "cell_type": "code",
   "execution_count": 12,
   "id": "9aa5cf47-82e7-48f6-b248-f00099eb31cf",
   "metadata": {},
   "outputs": [
    {
     "name": "stdout",
     "output_type": "stream",
     "text": [
      "[\n",
      "  {\"song\": \"Can't Stop The Feeling!\", \"artist\": \"Justin Timberlake\"},\n",
      "  {\"song\": \"Uptown Funk\", \"artist\": \"Mark Ronson ft. Bruno Mars\"},\n",
      "  {\"song\": \"Shape of You\", \"artist\": \"Ed Sheeran\"},\n",
      "  {\"song\": \"Don't Start Now\", \"artist\": \"Dua Lipa\"},\n",
      "  {\"song\": \"Get Lucky\", \"artist\": \"Daft Punk ft. Pharrell Williams\"}\n",
      "]\n"
     ]
    }
   ],
   "source": [
    "example_json = \"\"\"\n",
    "[\n",
    "  {\"song\": \"Everybody Hurts\", \"artist\": \"R.E.M.\"},\n",
    "  {\"song\": \"Hurt\", \"artist\": \"Johnny Cash\"},\n",
    "  {\"song\": \"Someone Like You\", \"artist\": \"Adele\"},\n",
    "  {\"song\": \"Nothing Compares 2 U\", \"artist\": \"Sinéad O'Connor\"},\n",
    "  {\"song\": \"Tears in Heaven\", \"artist\": \"Eric Clapton\"}\n",
    "]\n",
    "\n",
    "\n",
    "\"\"\"\n",
    "\n",
    "messages = [\n",
    "    {\"role\": \"system\", \"content\": \"\"\"You are a helpful playlist generating assistant. \n",
    "    You should generate a list of songs and their artists according to a text prompt.\n",
    "    Your should return a JSON array, where each element follows this format: {\"song\": <song_title>, \"artist\": <artist_name>}\n",
    "    \"\"\"\n",
    "    },\n",
    "    {\"role\": \"user\", \"content\": \"Generate a playlist of songs based on this prompt: super super sad songs\"},\n",
    "    {\"role\": \"assistant\", \"content\": example_json},\n",
    "    {\"role\": \"user\", \"content\": \"Generate a playlist of songs based on this prompt: high energy exciting dance songs\"},\n",
    "]\n",
    "\n",
    "response = openai.ChatCompletion.create(\n",
    "    messages=messages,\n",
    "    model=\"gpt-3.5-turbo\",\n",
    "    max_tokens=400,\n",
    ")\n",
    "\n",
    "print(response[\"choices\"][0][\"message\"][\"content\"])"
   ]
  },
  {
   "cell_type": "code",
   "execution_count": 21,
   "id": "0f4125e7-3dcc-42d5-8070-4838b5ab39a5",
   "metadata": {},
   "outputs": [],
   "source": [
    "def get_playlist(prompt, count):\n",
    "    example_json = \"\"\"\n",
    "    [\n",
    "      {\"song\": \"Everybody Hurts\", \"artist\": \"R.E.M.\"},\n",
    "      {\"song\": \"Hurt\", \"artist\": \"Johnny Cash\"},\n",
    "      {\"song\": \"Someone Like You\", \"artist\": \"Adele\"},\n",
    "      {\"song\": \"Nothing Compares 2 U\", \"artist\": \"Sinéad O'Connor\"},\n",
    "      {\"song\": \"Tears in Heaven\", \"artist\": \"Eric Clapton\"}\n",
    "    ]\n",
    "\n",
    "\n",
    "    \"\"\"\n",
    "\n",
    "    messages = [\n",
    "        {\"role\": \"system\", \"content\": \"\"\"You are a helpful playlist generating assistant. \n",
    "        You should generate a list of songs and their artists according to a text prompt.\n",
    "        Your should return a JSON array, where each element follows this format: {\"song\": <song_title>, \"artist\": <artist_name>}\n",
    "        Respond with only json. Do not include any text outside of the brackets.\n",
    "        \"\"\"\n",
    "        },\n",
    "        {\"role\": \"user\", \"content\": \"Generate a playlist of songs based on this prompt: super super sad songs\"},\n",
    "        {\"role\": \"assistant\", \"content\": example_json},\n",
    "        {\"role\": \"user\", \"content\": f\"Generate a playlist of {count} songs based on this prompt: {prompt}\"},\n",
    "    ]\n",
    "\n",
    "    response = openai.ChatCompletion.create(\n",
    "        messages=messages,\n",
    "        model=\"gpt-3.5-turbo\",\n",
    "        max_tokens=400,\n",
    "    )\n",
    "\n",
    "    playlist = json.loads(response[\"choices\"][0][\"message\"][\"content\"])\n",
    "    print(playlist)\n",
    "    "
   ]
  },
  {
   "cell_type": "code",
   "execution_count": 23,
   "id": "a8acd7d9-ccf8-42fe-863d-08a7097abb1f",
   "metadata": {},
   "outputs": [
    {
     "name": "stdout",
     "output_type": "stream",
     "text": [
      "[{'song': 'California Love', 'artist': '2Pac ft. Dr. Dre'}, {'song': 'Hotel California', 'artist': 'Eagles'}, {'song': 'Hollywood Nights', 'artist': 'Bob Seger'}, {'song': 'San Francisco (Be Sure to Wear Flowers in Your Hair)', 'artist': 'Scott McKenzie'}, {'song': 'Ventura Highway', 'artist': 'America'}, {'song': 'Malibu', 'artist': 'Miley Cyrus'}, {'song': 'I Love L.A.', 'artist': 'Randy Newman'}, {'song': 'The Chain', 'artist': 'Fleetwood Mac'}, {'song': 'Going to California', 'artist': 'Led Zeppelin'}, {'song': 'Fast Car', 'artist': 'Tracy Chapman'}]\n"
     ]
    }
   ],
   "source": [
    "get_playlist(\"songs for a California coast road trip\", 10)"
   ]
  },
  {
   "cell_type": "code",
   "execution_count": null,
   "id": "c9cff7df-4e1d-469b-bbd0-8205a651227d",
   "metadata": {},
   "outputs": [],
   "source": []
  }
 ],
 "metadata": {
  "kernelspec": {
   "display_name": "Python 3 (ipykernel)",
   "language": "python",
   "name": "python3"
  },
  "language_info": {
   "codemirror_mode": {
    "name": "ipython",
    "version": 3
   },
   "file_extension": ".py",
   "mimetype": "text/x-python",
   "name": "python",
   "nbconvert_exporter": "python",
   "pygments_lexer": "ipython3",
   "version": "3.8.16"
  }
 },
 "nbformat": 4,
 "nbformat_minor": 5
}
