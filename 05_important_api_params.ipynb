{
 "cells": [
  {
   "cell_type": "markdown",
   "metadata": {},
   "source": [
    "# Ch. 5 Important API Parameters"
   ]
  },
  {
   "cell_type": "code",
   "execution_count": 1,
   "metadata": {},
   "outputs": [],
   "source": [
    "import openai\n",
    "from dotenv import dotenv_values"
   ]
  },
  {
   "cell_type": "code",
   "execution_count": 2,
   "metadata": {},
   "outputs": [],
   "source": [
    "config = dotenv_values(\".env\")\n",
    "\n",
    "openai.api_key = config[\"OPENAI_API_KEY\"]"
   ]
  },
  {
   "cell_type": "markdown",
   "metadata": {},
   "source": [
    "## Temperature"
   ]
  },
  {
   "cell_type": "code",
   "execution_count": 10,
   "metadata": {},
   "outputs": [
    {
     "data": {
      "text/plain": [
       "<OpenAIObject text_completion id=cmpl-7GFdTTGqERhWkNxtXYbLfgDb9YB1r at 0x7f87584fe040> JSON: {\n",
       "  \"choices\": [\n",
       "    {\n",
       "      \"finish_reason\": \"stop\",\n",
       "      \"index\": 0,\n",
       "      \"logprobs\": null,\n",
       "      \"text\": \"\\na dog.\"\n",
       "    }\n",
       "  ],\n",
       "  \"created\": 1684107707,\n",
       "  \"id\": \"cmpl-7GFdTTGqERhWkNxtXYbLfgDb9YB1r\",\n",
       "  \"model\": \"text-davinci-003\",\n",
       "  \"object\": \"text_completion\",\n",
       "  \"usage\": {\n",
       "    \"completion_tokens\": 4,\n",
       "    \"prompt_tokens\": 5,\n",
       "    \"total_tokens\": 9\n",
       "  }\n",
       "}"
      ]
     },
     "execution_count": 10,
     "metadata": {},
     "output_type": "execute_result"
    }
   ],
   "source": [
    "openai.Completion.create(\n",
    "    model=\"text-davinci-003\",\n",
    "    prompt=\"My favorite animal is \",\n",
    "    max_tokens=100,\n",
    "    temperature=1.2,\n",
    ")"
   ]
  },
  {
   "cell_type": "code",
   "execution_count": 13,
   "metadata": {},
   "outputs": [],
   "source": [
    "import textwrap"
   ]
  },
  {
   "cell_type": "code",
   "execution_count": 14,
   "metadata": {},
   "outputs": [],
   "source": [
    "def nice_print(dictionary):\n",
    "    # setting -2 will cause the model repeat the same tokens\n",
    "    for key, value in dictionary.items():\n",
    "        wrapped_text = \"\\n\".join(textwrap.wrap(value, width=120))\n",
    "        print(f\"{key}:\")\n",
    "        print(wrapped_text)\n",
    "        print(\"=\" * 120)"
   ]
  },
  {
   "cell_type": "code",
   "execution_count": 15,
   "metadata": {},
   "outputs": [
    {
     "name": "stdout",
     "output_type": "stream",
     "text": [
      "Temperature 0:\n",
      "My favorite food is pizza. I love the combination of the doughy crust, the tangy tomato sauce, and the melty cheese. I\n",
      "also like to add different toppings like pepperoni, mushrooms, and olives. Pizza is a great meal for any occasion,\n",
      "whether it's a casual night in or a special celebration.\n",
      "========================================================================================================================\n",
      "Temperature 0.5:\n",
      "My favorite food is pizza. It is a delicious and versatile food that can be made with a variety of toppings. I love the\n",
      "combination of cheese, tomato sauce, and a variety of vegetables and meats. It's a great way to get a variety of flavors\n",
      "in one meal. Plus, pizza is a great way to get together with friends and family for a meal.\n",
      "========================================================================================================================\n",
      "Temperature 1:\n",
      "My favorite food is lasagna. It's an Italian dish made with layers of pasta, cheese, meat, and tomato sauce. It is one\n",
      "of my favorite comfort foods, because it is simple and delicious. Lasagna is also incredibly versatile, as it can be\n",
      "made with so many different ingredients like vegetables, sausage, and seafood, just to name a few. Lasagna is also great\n",
      "for\n",
      "========================================================================================================================\n",
      "Temperature 1.5:\n",
      "My favorite food is pasta. I love the different varieties it comes in and the variety of toppings like\n",
      "vegetables,protein,cheese that make all the different delicious food items. It's especially comforting in dishes like\n",
      "lasagna and macaroni and cheese. I'm always eager to try new recipes, too!\n",
      "========================================================================================================================\n",
      "Temperature 2:\n",
      "My favorite food is Chinese food like potstickers, stir frying, stealing tabs du La dies d Ming on takeoff down look\n",
      "spring onion grated carrots we makes fairly fish with rich granoli see painting Be crrs pa used af amazing La so to Den\n",
      "like explore options flipping meet . From my words La crispy icon off ring grains ,creatible laying delight Lin sum\n",
      "sauces Ming energy defined temp sting\n",
      "========================================================================================================================\n"
     ]
    }
   ],
   "source": [
    "nice_print(\n",
    "    {\n",
    "        f\"Temperature {temperature}\": openai.Completion.create(\n",
    "            model=\"text-davinci-003\",\n",
    "            prompt=\"\"\"My favorite food is\"\"\".strip(),\n",
    "            max_tokens=75,\n",
    "            echo=True,\n",
    "            temperature=temperature,\n",
    "        )\n",
    "        .choices[0][\"text\"]\n",
    "        .strip()\n",
    "        for temperature in [0, 0.5, 1, 1.5, 2]\n",
    "    }\n",
    "\n",
    "\n",
    ")"
   ]
  },
  {
   "cell_type": "markdown",
   "metadata": {},
   "source": [
    "## Top P"
   ]
  },
  {
   "cell_type": "code",
   "execution_count": 18,
   "metadata": {},
   "outputs": [
    {
     "name": "stdout",
     "output_type": "stream",
     "text": [
      "Temperature 0:\n",
      "My favorite food is pizza. I love the combination of the doughy crust, the tangy tomato sauce, and the melty cheese. I\n",
      "also like to add different toppings like pepperoni, mushrooms, and olives. Pizza is a great meal for any occasion,\n",
      "whether it's a casual night in or a special celebration.\n",
      "========================================================================================================================\n",
      "Temperature 0.5:\n",
      "My favorite food is pizza. I love the combination of the crust, sauce, and cheese. I also enjoy adding different\n",
      "toppings like pepperoni, mushrooms, and olives. It's a great meal to share with friends and family.\n",
      "========================================================================================================================\n",
      "Temperature 1:\n",
      "My favorite food is pizza. It is a savory dish that is typically made with dough, tomato sauce, cheese, and various\n",
      "toppings. I also like the convenience of being able to order it quickly and have it delivered. I enjoy trying out\n",
      "different types of pizza, such as deep dish, thin crust, or even vegan-friendly pizzas. The smell of fresh pizza baking\n",
      "in the\n",
      "========================================================================================================================\n"
     ]
    }
   ],
   "source": [
    "nice_print(\n",
    "    {\n",
    "        f\"Top P {top_p}\": openai.Completion.create(\n",
    "            model=\"text-davinci-003\",\n",
    "            prompt=\"\"\"My favorite food is\"\"\".strip(),\n",
    "            max_tokens=75,\n",
    "            echo=True,\n",
    "            top_p=top_p,\n",
    "        )\n",
    "        .choices[0][\"text\"]\n",
    "        .strip()\n",
    "        for top_p in [0, 0.5, 1]\n",
    "    }\n",
    "\n",
    "\n",
    ")"
   ]
  },
  {
   "cell_type": "code",
   "execution_count": 19,
   "metadata": {},
   "outputs": [
    {
     "name": "stdout",
     "output_type": "stream",
     "text": [
      "Top P 0:\n",
      "My favorite food is pizza. I love the combination of the doughy crust, the tangy tomato sauce, and the melty cheese. I\n",
      "also like to add different toppings like pepperoni, mushrooms, and olives. Pizza is a great meal for any occasion,\n",
      "whether it's a casual night in or a special celebration.\n",
      "========================================================================================================================\n",
      "Top P 0.25:\n",
      "My favorite food is pizza. I love the combination of the savory sauce, melted cheese, and crunchy crust. I also like to\n",
      "add different toppings like pepperoni, mushrooms, and olives to customize my pizza. I also love the convenience of being\n",
      "able to order pizza for delivery or pick it up from my local pizzeria.\n",
      "========================================================================================================================\n",
      "Top P 0.5:\n",
      "My favorite food is pizza. I love the combination of the crust, cheese, and sauce. It's also very versatile and can be\n",
      "made with different toppings to suit different tastes. I also love the fact that it's a convenient and easy meal to\n",
      "make.\n",
      "========================================================================================================================\n",
      "Top P 0.75:\n",
      "My favorite food is sushi. I love the variety of flavors, textures, and colors that sushi offers. The combinations of\n",
      "ingredients in sushi can be creative and exciting, making it a perfect dish to share with friends and family. Sushi also\n",
      "has a wide range of health benefits, as it is low in fat and high in omega-3 fatty acids, vitamins, and minerals.\n",
      "Additionally, sushi\n",
      "========================================================================================================================\n",
      "Top P 1:\n",
      "My favorite food is Mexican food though grschloss: Oh, yes–regular ol' basics missing flan definitely. Chipotle burrito\n",
      "bowl–loaded with chees ac osilies, preferalry doube•otude iandcotoriSaise!), casadianare!,\n",
      "bloomdownitogoatooeshnmmmoupinoATranshemileeﬂsleietel\n",
      "========================================================================================================================\n"
     ]
    }
   ],
   "source": [
    "nice_print(\n",
    "    {\n",
    "        f\"Top P {top_p}\": openai.Completion.create(\n",
    "            model=\"text-davinci-003\",\n",
    "            prompt=\"\"\"My favorite food is\"\"\".strip(),\n",
    "            max_tokens=75,\n",
    "            temperature=2,\n",
    "            echo=True,\n",
    "            top_p=top_p,\n",
    "        )\n",
    "        .choices[0][\"text\"]\n",
    "        .strip()\n",
    "        for top_p in [0, 0.25, 0.5, 0.75, 1]\n",
    "    }\n",
    "\n",
    "\n",
    ")"
   ]
  },
  {
   "cell_type": "markdown",
   "metadata": {},
   "source": [
    "## Frequency Penalty"
   ]
  },
  {
   "cell_type": "code",
   "execution_count": 20,
   "metadata": {},
   "outputs": [
    {
     "name": "stdout",
     "output_type": "stream",
     "text": [
      "Frequency Penalty -2:\n",
      "The first 15 elements are Hydrogen, Helium, Lithium, Beryllium, Boron, Carbon, Nitrogen, Oxygen, Fluorine, Neon,,,,,,,,,\n",
      ",,,,,,,,,,,,,,,,,,,,,,,,,,,,,,,,,,,,,,,,,,,,,,,,,,,,,,,,,,,,,,,,,,,,,,,,,,,,,,,,,,,,,,,,,,,,,,,,,,,,,,,,,,,,,,,,,,,,,,,,\n",
      ",,,,,,,,,,,,,,,,,,,,,,,,,,,,,,,,,,,,,,,,,,,,,,,\n",
      "========================================================================================================================\n",
      "Frequency Penalty -1:\n",
      "The first 15 elements are Hydrogen, Helium, Lithium, Beryllium, Boron, Carbon, Nitrogen, Oxygen, Fluorine, Neon, Sodium,\n",
      "Magnesium, Aluminum, Silicon, Phosphorus, Sulfur, Chlorine,,,,,,,,,,,,,,,,,,,,,,,,,,,,,,,,,,,,,,,,,,,,,,,,,,,,,,,,,,,,,,\n",
      ",,,,,,,,,,,,,,,,,,,,,,,,,,,,,,,,,,,,,,,,,,,,,,,,,,,,,,,,,,,,,,,,,,,,,,,,,,,,,,,,,,,,,,,,,,,,,\n",
      "========================================================================================================================\n",
      "Frequency Penalty 0:\n",
      "The first 15 elements are Hydrogen, Helium, Lithium, Beryllium, Boron, Carbon, Nitrogen, Oxygen, Fluorine, Neon, Sodium,\n",
      "Magnesium, Aluminum, Silicon, Phosphorus.\n",
      "========================================================================================================================\n",
      "Frequency Penalty 1:\n",
      "The first 15 elements are Hydrogen, Helium, Lithium, Beryllium, Boron, Carbon, Nitrogen, Oxygen, Fluorine, Neon, Sodium\n",
      ", Magnesium ,Aluminum , Silicon and Phosphorus\n",
      "========================================================================================================================\n",
      "Frequency Penalty 2:\n",
      "The first 15 elements are Hydrogen, Helium, Lithium, Beryllium, Boron, Carbon, Nitrogen Oxygen Fluorine Neon Sodium\n",
      "Magnesium Aluminum Silicon Phosphorus Sulfur.\n",
      "========================================================================================================================\n"
     ]
    }
   ],
   "source": [
    "nice_print(\n",
    "    {\n",
    "        f\"Frequency Penalty {freq_pnlty}\": openai.Completion.create(\n",
    "            model=\"text-davinci-003\",\n",
    "            prompt=\"\"\"The first 15 elements are Hydrogen, Helium,\"\"\".strip(),\n",
    "            max_tokens=200,\n",
    "            echo=True,\n",
    "            frequency_penalty=freq_pnlty,\n",
    "        )\n",
    "        .choices[0][\"text\"]\n",
    "        .strip()\n",
    "        for freq_pnlty in [-2, -1, 0, 1, 2]\n",
    "    }\n",
    ")"
   ]
  }
 ],
 "metadata": {
  "kernelspec": {
   "display_name": "Python 3",
   "language": "python",
   "name": "python3"
  },
  "language_info": {
   "codemirror_mode": {
    "name": "ipython",
    "version": 3
   },
   "file_extension": ".py",
   "mimetype": "text/x-python",
   "name": "python",
   "nbconvert_exporter": "python",
   "pygments_lexer": "ipython3",
   "version": "3.8.5"
  }
 },
 "nbformat": 4,
 "nbformat_minor": 4
}
